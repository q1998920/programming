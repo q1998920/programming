{
  "nbformat": 4,
  "nbformat_minor": 0,
  "metadata": {
    "colab": {
      "provenance": [],
      "toc_visible": true,
      "authorship_tag": "ABX9TyPtZWmmVzp51l5Uo4U3/tqI",
      "include_colab_link": true
    },
    "kernelspec": {
      "name": "python3",
      "display_name": "Python 3"
    },
    "language_info": {
      "name": "python"
    }
  },
  "cells": [
    {
      "cell_type": "markdown",
      "metadata": {
        "id": "view-in-github",
        "colab_type": "text"
      },
      "source": [
        "<a href=\"https://colab.research.google.com/github/q1998920/programming/blob/main/Untitled0.ipynb\" target=\"_parent\"><img src=\"https://colab.research.google.com/assets/colab-badge.svg\" alt=\"Open In Colab\"/></a>"
      ]
    },
    {
      "cell_type": "markdown",
      "source": [
        "# 1.底層，原子:字串str,整數int,小數float,布林bool\n",
        "\n"
      ],
      "metadata": {
        "id": "CW9h_d_6jfW7"
      }
    },
    {
      "cell_type": "code",
      "source": [
        "x=\"hello:\""
      ],
      "metadata": {
        "id": "UKS8KV1VjywC"
      },
      "execution_count": 7,
      "outputs": []
    },
    {
      "cell_type": "code",
      "source": [
        "type(x)"
      ],
      "metadata": {
        "colab": {
          "base_uri": "https://localhost:8080/"
        },
        "id": "Edk3r8bpil6s",
        "outputId": "c1bc9619-70d7-4419-9445-adcadb565660"
      },
      "execution_count": 2,
      "outputs": [
        {
          "output_type": "execute_result",
          "data": {
            "text/plain": [
              "str"
            ]
          },
          "metadata": {},
          "execution_count": 2
        }
      ]
    },
    {
      "cell_type": "code",
      "source": [
        "y=1"
      ],
      "metadata": {
        "id": "nWgtreJSiqDb"
      },
      "execution_count": 3,
      "outputs": []
    },
    {
      "cell_type": "code",
      "source": [
        "type(y)"
      ],
      "metadata": {
        "colab": {
          "base_uri": "https://localhost:8080/"
        },
        "id": "LvJUkTH9ivgj",
        "outputId": "f7aca75e-43ae-4a94-babf-1adef1e09367"
      },
      "execution_count": 5,
      "outputs": [
        {
          "output_type": "execute_result",
          "data": {
            "text/plain": [
              "int"
            ]
          },
          "metadata": {},
          "execution_count": 5
        }
      ]
    },
    {
      "cell_type": "code",
      "source": [
        "a=1.1"
      ],
      "metadata": {
        "id": "wztMKeZhiz57"
      },
      "execution_count": 6,
      "outputs": []
    },
    {
      "cell_type": "code",
      "source": [
        "type(a)"
      ],
      "metadata": {
        "colab": {
          "base_uri": "https://localhost:8080/"
        },
        "id": "xgWPwUYxjbwE",
        "outputId": "79355236-1a4b-4661-f3aa-9d095ec6564d"
      },
      "execution_count": 8,
      "outputs": [
        {
          "output_type": "execute_result",
          "data": {
            "text/plain": [
              "float"
            ]
          },
          "metadata": {},
          "execution_count": 8
        }
      ]
    },
    {
      "cell_type": "code",
      "source": [
        "d=True"
      ],
      "metadata": {
        "id": "Qcy9JaHtj9Lz"
      },
      "execution_count": 10,
      "outputs": []
    },
    {
      "cell_type": "code",
      "source": [
        "type(d)"
      ],
      "metadata": {
        "colab": {
          "base_uri": "https://localhost:8080/"
        },
        "id": "nF6amGLYkBVb",
        "outputId": "dc8029d2-7817-46ac-c46b-69d5ac862b38"
      },
      "execution_count": 13,
      "outputs": [
        {
          "output_type": "execute_result",
          "data": {
            "text/plain": [
              "bool"
            ]
          },
          "metadata": {},
          "execution_count": 13
        }
      ]
    },
    {
      "cell_type": "markdown",
      "source": [
        "# 中層(容器),分子:tuple,list,dict,set"
      ],
      "metadata": {
        "id": "16ujAGv9kPnD"
      }
    },
    {
      "cell_type": "code",
      "source": [
        "s=(1,2,3)"
      ],
      "metadata": {
        "id": "1ZtqSGWIkc0T"
      },
      "execution_count": 14,
      "outputs": []
    },
    {
      "cell_type": "markdown",
      "source": [
        "## A.元組tuple"
      ],
      "metadata": {
        "id": "O8hLdP_Wknw7"
      }
    },
    {
      "cell_type": "code",
      "source": [
        "type(s)"
      ],
      "metadata": {
        "colab": {
          "base_uri": "https://localhost:8080/"
        },
        "id": "mCcJrY9ukjRT",
        "outputId": "9a51b92d-4c41-4d10-8d5c-9eb6cf94c16e"
      },
      "execution_count": 15,
      "outputs": [
        {
          "output_type": "execute_result",
          "data": {
            "text/plain": [
              "tuple"
            ]
          },
          "metadata": {},
          "execution_count": 15
        }
      ]
    },
    {
      "cell_type": "markdown",
      "source": [
        "## B.串列list"
      ],
      "metadata": {
        "id": "2vtM9JO5kzCD"
      }
    },
    {
      "cell_type": "code",
      "source": [
        "w={1,2,3}"
      ],
      "metadata": {
        "id": "vSNf5k8Kkmbb"
      },
      "execution_count": 16,
      "outputs": []
    },
    {
      "cell_type": "code",
      "source": [
        "type(w)"
      ],
      "metadata": {
        "colab": {
          "base_uri": "https://localhost:8080/"
        },
        "id": "64wJzEB5k__a",
        "outputId": "e0849a9a-f2ae-49b6-d69a-790be691f1af"
      },
      "execution_count": 17,
      "outputs": [
        {
          "output_type": "execute_result",
          "data": {
            "text/plain": [
              "set"
            ]
          },
          "metadata": {},
          "execution_count": 17
        }
      ]
    }
  ]
}